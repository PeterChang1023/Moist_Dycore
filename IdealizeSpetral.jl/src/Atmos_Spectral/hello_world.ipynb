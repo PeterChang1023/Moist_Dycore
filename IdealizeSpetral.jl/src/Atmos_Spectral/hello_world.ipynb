{
 "cells": [
  {
   "cell_type": "code",
   "execution_count": null,
   "id": "b39d4df2-c2de-459a-a0a3-d3f4920bb3df",
   "metadata": {},
   "outputs": [],
   "source": [
    "# hello world \n",
    "\n",
    "#hi"
   ]
  }
 ],
 "metadata": {
  "kernelspec": {
   "display_name": "Python 3 (ipykernel)",
   "language": "python",
   "name": "python3"
  },
  "language_info": {
   "codemirror_mode": {
    "name": "ipython",
    "version": 3
   },
   "file_extension": ".py",
   "mimetype": "text/x-python",
   "name": "python",
   "nbconvert_exporter": "python",
   "pygments_lexer": "ipython3",
   "version": "3.9.18"
  }
 },
 "nbformat": 4,
 "nbformat_minor": 5
}
