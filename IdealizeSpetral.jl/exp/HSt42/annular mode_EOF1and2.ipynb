{
 "cells": [
  {
   "cell_type": "code",
   "execution_count": 1,
   "id": "2bf36f98-8bbb-4209-9e0a-01c1efab4297",
   "metadata": {},
   "outputs": [],
   "source": [
    "import numpy as np\n",
    "import matplotlib.pyplot as plt\n",
    "import h5py\n",
    "import multiprocessing\n",
    "from multiprocessing import Pool\n",
    "import os\n",
    "import matplotlib.cm as cm"
   ]
  },
  {
   "cell_type": "code",
   "execution_count": 2,
   "id": "2663f75b-6c8e-4de2-968a-38d9259e77fb",
   "metadata": {},
   "outputs": [],
   "source": [
    "class Dycore:\n",
    "    def __init__(self, file):\n",
    "        self.ds = h5py.File(file, \"r\")\n",
    "        \n",
    "    def getVar(self, var):\n",
    "        return np.asarray(self.ds[var])"
   ]
  },
  {
   "cell_type": "code",
   "execution_count": 6,
   "id": "1aa82a06-c658-4c05-8432-fbfa4b8d39d0",
   "metadata": {},
   "outputs": [
    {
     "name": "stdout",
     "output_type": "stream",
     "text": [
      "<KeysViewHDF5 ['_types', 'grid_geopots_xyzt', 'grid_lnp_full_xyzt', 'grid_lnp_half_xyzt', 'grid_lnps_xyzt', 'grid_p_full_xyzt', 'grid_p_half_xyzt', 'grid_ps_xyzt', 'grid_t_c_xyzt', 'grid_t_eq_xyzt', 'grid_u_c_xyzt', 'grid_v_c_xyzt', 'grid_Δp_xyzt', 'spe_div_c_xyzt', 'spe_lnps_c_xyzt', 'spe_lnps_p_xyzt', 'spe_vor_c_xyzt']>\n",
      "(300, 20, 64, 128)\n"
     ]
    }
   ],
   "source": [
    "file  = \"0404_300_50_8_variables.dat\"\n",
    "\n",
    "ds = h5py.File(file, \"r\")\n",
    "print(ds.keys())\n",
    "\n",
    "dycore = Dycore(file)\n",
    "u  = dycore.getVar(\"grid_u_c_xyzt\")\n",
    "test = np.zeros(u.shape)\n",
    "print(test.shape)"
   ]
  },
  {
   "cell_type": "code",
   "execution_count": 9,
   "id": "e1205764-30a1-4fb4-8096-a4c2cd21c296",
   "metadata": {},
   "outputs": [
    {
     "ename": "ModuleNotFoundError",
     "evalue": "No module named 'EOF'",
     "output_type": "error",
     "traceback": [
      "\u001b[0;31m---------------------------------------------------------------------------\u001b[0m",
      "\u001b[0;31mModuleNotFoundError\u001b[0m                       Traceback (most recent call last)",
      "Cell \u001b[0;32mIn [9], line 1\u001b[0m\n\u001b[0;32m----> 1\u001b[0m \u001b[38;5;28;01mfrom\u001b[39;00m \u001b[38;5;21;01mEOF\u001b[39;00m \u001b[38;5;28;01mimport\u001b[39;00m EOF\n\u001b[1;32m      2\u001b[0m u_50 \u001b[38;5;241m=\u001b[39m dycore\u001b[38;5;241m.\u001b[39mgetVar(\u001b[38;5;124m\"\u001b[39m\u001b[38;5;124mgrid_u_c_xyzt\u001b[39m\u001b[38;5;124m\"\u001b[39m)\n",
      "\u001b[0;31mModuleNotFoundError\u001b[0m: No module named 'EOF'"
     ]
    }
   ],
   "source": [
    "from EOF import EOF\n",
    "u_50 = dycore.getVar(\"grid_u_c_xyzt\")"
   ]
  },
  {
   "cell_type": "code",
   "execution_count": null,
   "id": "c66a50ff-b8e7-44bb-bde5-886072f8134d",
   "metadata": {},
   "outputs": [],
   "source": []
  }
 ],
 "metadata": {
  "kernelspec": {
   "display_name": "Python 3 (ipykernel)",
   "language": "python",
   "name": "python3"
  },
  "language_info": {
   "codemirror_mode": {
    "name": "ipython",
    "version": 3
   },
   "file_extension": ".py",
   "mimetype": "text/x-python",
   "name": "python",
   "nbconvert_exporter": "python",
   "pygments_lexer": "ipython3",
   "version": "3.9.13"
  }
 },
 "nbformat": 4,
 "nbformat_minor": 5
}
