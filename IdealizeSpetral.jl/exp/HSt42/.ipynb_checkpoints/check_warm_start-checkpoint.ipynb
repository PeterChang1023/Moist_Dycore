{
 "cells": [
  {
   "cell_type": "code",
   "execution_count": 5,
   "id": "b565b93b-c2b7-4c5e-b1a9-a1f8eb1e24db",
   "metadata": {},
   "outputs": [],
   "source": [
    "import numpy as np\n",
    "import matplotlib.pyplot as plt\n",
    "import h5py\n",
    "# import multiprocessing\n",
    "# from multiprocessing import Pool\n",
    "import os\n",
    "import matplotlib.cm as cm\n",
    "# from scipy.interpolate import interp1d\n",
    "# from abc import ABC, abstractclassmethod\n",
    "from EOF import EOF\n",
    "# from scipy.fftpack import fft,ifft,fftfreq\n",
    "import datetime "
   ]
  },
  {
   "cell_type": "code",
   "execution_count": 21,
   "id": "416c1400-eb73-4fe2-8bfd-ddaab4033d66",
   "metadata": {
    "jupyter": {
     "source_hidden": true
    }
   },
   "outputs": [],
   "source": [
    "class Dycore:\n",
    "    def __init__(self, file):\n",
    "        self.ds = h5py.File(file, \"r\")\n",
    "        self.Rd = 287\n",
    "        self.cp = 1004\n",
    "        self.g  = 9.81\n",
    "        self.H  = 6800\n",
    "        self.a  = 6.37122e6\n",
    "        self.u  = self.getVar(\"grid_u_c_xyzt\")\n",
    "        self.v  = self.getVar(\"grid_v_c_xyzt\")\n",
    "        self.t  = self.getVar(\"grid_t_c_xyzt\")\n",
    "        self.ps = self.getVar(\"grid_ps_xyzt\")\n",
    "        self.p  = self.getVar(\"grid_p_full_xyzt\")\n",
    "        # self.p_half  = self.getVar(\"grid_p_half_xyzt\")\n",
    "\n",
    "        self.qv   = self.getVar(\"grid_tracers_c_xyz1t\")\n",
    "        self.qv_p = self.getVar(\"grid_tracers_p_xyz1t\")\n",
    "\n",
    "        \n",
    "        self.qv_diff = self.getVar(\"grid_tracers_diff_xyz1t\")\n",
    "        self.omega   = self.getVar(\"grid_w_full_xyzt\")\n",
    "        self.z       = self.getVar(\"grid_z_full_xyzt\")\n",
    "        self.factor1 = self.getVar(\"factor1_xyzt\")\n",
    "        self.factor2 = self.getVar(\"factor2_xyzt\")\n",
    "        self.factor3 = self.getVar(\"factor3_xyzt\")\n",
    "        self.K_E = self.getVar(\"K_E_xyzt\")\n",
    "\n",
    "        # self.theta = self.t * (self.ps / self.p)**(self.Rd/self.cp)\n",
    "        \n",
    "        # self.Uzm   = np.nanmean(self.u, axis=3)\n",
    "        # self.Vzm   = np.nanmean(self.v, axis=3)\n",
    "        # self.THzm  = np.nanmean(self.theta, axis=3)\n",
    "        # self.Pzm   = np.nanmean(self.p, axis=3)\n",
    "        # self.Tzm   = np.nanmean(self.t, axis=3)\n",
    "        \n",
    "        # ### anamoly\n",
    "        # self.Vzmtm  = np.nanmean(self.Vzm, axis=0)\n",
    "        # self.Uzmtm  = np.nanmean(self.Uzm, axis=0)\n",
    "        # self.THzmtm = np.nanmean(self.THzm, axis=0)\n",
    "        # self.Pzmtm  = np.nanmean(self.Pzm, axis=0)\n",
    "        # self.Tzmtm  = np.nanmean(self.Tzm, axis=0)\n",
    "\n",
    "        # self.Vza     = np.zeros(self.u.shape)\n",
    "        # self.Uza     = np.zeros(self.u.shape)\n",
    "        # self.THETAza = np.zeros(self.u.shape)\n",
    "        # self.Pza     = np.zeros(self.u.shape)\n",
    "        # self.Tza     = np.zeros(self.t.shape)\n",
    "\n",
    "        # for i in range(0,128):\n",
    "        #     self.Vza[:,:,:,i]     = self.v[:,:,:,i] - self.Vzm\n",
    "        #     self.Uza[:,:,:,i]     = self.u[:,:,:,i] - self.Uzm\n",
    "        #     self.THETAza[:,:,:,i] = self.theta[:,:,:,i] - self.THzm\n",
    "        #     self.Pza[:,:,:,i]     = self.p[:,:,:,i] - self.Pzm\n",
    "        #     self.Tza[:,:,:,i]     = self.t[:,:,:,i] - self.Tzm\n",
    "        \n",
    "        ### the variables for plot\n",
    "        self.sigma_mean           = np.nanmean(self.p/self.ps, axis=(0,3))\n",
    "        self.sigma_onlyz          = np.nanmean(self.sigma_mean, axis=1)\n",
    "        self.y                    = np.linspace(-90,90,64)\n",
    "        self.yy, self.sigma_mean2 = np.meshgrid(self.y,self.sigma_onlyz)\n",
    "        \n",
    "        ### cooridate\n",
    "        self.x  = np.linspace(-180,180,128)\n",
    "        self.y  = np.linspace(-90,90,64)\n",
    "        self.xd = np.deg2rad(self.x)\n",
    "        self.yd = np.deg2rad(self.y)\n",
    "        \n",
    "        # WARNING: cos(-90) would be zero, doing this preventing it from divide by zero.\n",
    "        self.cy     = np.cos(self.yd)\n",
    "        self.cy[0]  = np.nan\n",
    "        self.cy[-1] = np.nan\n",
    "\n",
    "    def getVar(self, var):\n",
    "        # self.u  = self.ds[\"grid_u_c_xyzt\"]\n",
    "        return np.asarray(self.ds[var])\n",
    "    \n"
   ]
  },
  {
   "cell_type": "code",
   "execution_count": 22,
   "id": "85d19f9a-7614-4287-8f7a-6915d0e3013f",
   "metadata": {},
   "outputs": [],
   "source": [
    "file = \"test_all.dat\"\n",
    "# dycore = Dycore(file)\n",
    "test = h5py.File(file, \"r\")\n"
   ]
  },
  {
   "cell_type": "code",
   "execution_count": 12,
   "id": "b1fdc498-de7e-4654-99c3-0f3bd2dcf3dc",
   "metadata": {},
   "outputs": [
    {
     "name": "stdout",
     "output_type": "stream",
     "text": [
      "<HDF5 file \"test_final.dat\" (mode r)>\n"
     ]
    }
   ],
   "source": []
  },
  {
   "cell_type": "code",
   "execution_count": 18,
   "id": "7a832536-5869-44e8-8a91-53a7e51e5764",
   "metadata": {},
   "outputs": [],
   "source": []
  },
  {
   "cell_type": "code",
   "execution_count": 20,
   "id": "a2b5fa49-1251-4c71-b3ba-03cd0f97d76f",
   "metadata": {},
   "outputs": [
    {
     "name": "stdout",
     "output_type": "stream",
     "text": [
      "9447983\n"
     ]
    }
   ],
   "source": []
  },
  {
   "cell_type": "code",
   "execution_count": null,
   "id": "04aaa036-a414-4d7a-bdec-71f06f9c0391",
   "metadata": {},
   "outputs": [],
   "source": []
  }
 ],
 "metadata": {
  "kernelspec": {
   "display_name": "Python 3 (ipykernel)",
   "language": "python",
   "name": "python3"
  },
  "language_info": {
   "codemirror_mode": {
    "name": "ipython",
    "version": 3
   },
   "file_extension": ".py",
   "mimetype": "text/x-python",
   "name": "python",
   "nbconvert_exporter": "python",
   "pygments_lexer": "ipython3",
   "version": "3.9.18"
  }
 },
 "nbformat": 4,
 "nbformat_minor": 5
}
