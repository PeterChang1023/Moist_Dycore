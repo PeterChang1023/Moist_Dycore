{
 "cells": [
  {
   "cell_type": "code",
   "execution_count": 53,
   "id": "15a1f077-ff32-4358-8ffe-665b73f3f06e",
   "metadata": {},
   "outputs": [
    {
     "name": "stdout",
     "output_type": "stream",
     "text": [
      "warmstart.dat\n"
     ]
    }
   ],
   "source": [
    "touch(\"firstday_file.txt\")\n",
    "file = open(\"firstday_file.txt\", \"r\")\n",
    "# file = \"firstday_file.txt\"\n",
    "data = read(file, String)\n",
    "\n",
    "# print(parse(String, data))\n",
    "print(data)\n",
    "close(file)"
   ]
  },
  {
   "cell_type": "code",
   "execution_count": null,
   "id": "26cada4f-a519-46a2-a6ac-1139789cc553",
   "metadata": {},
   "outputs": [],
   "source": []
  }
 ],
 "metadata": {
  "kernelspec": {
   "display_name": "Julia 1.9.3",
   "language": "julia",
   "name": "julia-1.9"
  },
  "language_info": {
   "file_extension": ".jl",
   "mimetype": "application/julia",
   "name": "julia",
   "version": "1.9.3"
  }
 },
 "nbformat": 4,
 "nbformat_minor": 5
}
