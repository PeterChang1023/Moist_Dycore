{
 "cells": [
  {
   "cell_type": "code",
   "execution_count": 44,
   "id": "1c4a966c-6b28-4b35-bd51-fb4391e9904d",
   "metadata": {},
   "outputs": [],
   "source": [
    "import h5py\n",
    "import numpy as np"
   ]
  },
  {
   "cell_type": "code",
   "execution_count": 45,
   "id": "59b4c6ae-8755-4e22-8d16-ca214e1ca9cb",
   "metadata": {},
   "outputs": [],
   "source": [
    "file = h5py.File(\"hi_test_final.dat\")"
   ]
  },
  {
   "cell_type": "code",
   "execution_count": 46,
   "id": "6c6b4763-de25-492a-a918-c977818d96ce",
   "metadata": {},
   "outputs": [
    {
     "name": "stdout",
     "output_type": "stream",
     "text": [
      "<KeysViewHDF5 ['_types', 'convection_xyzt', 'factor1_xyzt', 'factor2_xyzt', 'factor3_xyzt', 'factor4_xyzt', 'grid_div_xyzt', 'grid_geopots_xyzt', 'grid_p_full_xyzt', 'grid_p_half_xyzt', 'grid_ps_c_xyzt', 'grid_ps_p_xyzt', 'grid_t_c_xyzt', 'grid_t_n_xyzt', 'grid_t_p_xyzt', 'grid_tracers_c_max_Tiffany_xyzt', 'grid_tracers_c_max_xyzt', 'grid_tracers_c_xyzt', 'grid_tracers_diff_xyzt', 'grid_tracers_n_xyzt', 'grid_tracers_p_xyzt', 'grid_u_c_xyzt', 'grid_u_n_xyzt', 'grid_u_p_xyzt', 'grid_v_c_xyzt', 'grid_v_n_xyzt', 'grid_v_p_xyzt', 'grid_vor_xyzt', 'grid_w_full_xyzt', 'grid_z_full_xyzt', 'grid_δtracers_xyzt', 'grid_δu_xyzt', 'grid_δv_xyzt', 'spe_div_c_xyzt', 'spe_div_p_xyzt', 'spe_lnps_c_xyzt', 'spe_lnps_p_xyzt', 'spe_t_c_xyzt', 'spe_t_p_xyzt', 'spe_tracers_c_xyzt', 'spe_tracers_p_xyzt', 'spe_vor_c_xyzt', 'spe_vor_p_xyzt']>\n"
     ]
    }
   ],
   "source": [
    "print(file.keys())"
   ]
  },
  {
   "cell_type": "code",
   "execution_count": 51,
   "id": "01d643f7-f866-4010-98cc-bba6baa7dd41",
   "metadata": {},
   "outputs": [],
   "source": [
    "test          = np.asarray(file[\"grid_tracers_c_max_xyzt\"][:,:,:,:])\n",
    "test_Tiffany  = np.asarray(file[\"grid_tracers_c_max_Tiffany_xyzt\"][:,:,:,:])\n",
    "\n"
   ]
  },
  {
   "cell_type": "code",
   "execution_count": 48,
   "id": "98e69805-a5bc-4e2c-9264-2365c2cb6681",
   "metadata": {},
   "outputs": [
    {
     "name": "stdout",
     "output_type": "stream",
     "text": [
      "(8, 20, 64, 128)\n"
     ]
    }
   ],
   "source": [
    "print(test.shape)"
   ]
  },
  {
   "cell_type": "code",
   "execution_count": 50,
   "id": "a5c9df29-28cd-4783-9733-74a32b0c21f3",
   "metadata": {},
   "outputs": [
    {
     "name": "stdout",
     "output_type": "stream",
     "text": [
      "0.10933497573205411\n"
     ]
    }
   ],
   "source": [
    "prine(test_Tiffany - test)"
   ]
  },
  {
   "cell_type": "code",
   "execution_count": null,
   "id": "fa522348-e5b3-4411-b071-145302b94272",
   "metadata": {},
   "outputs": [],
   "source": []
  },
  {
   "cell_type": "code",
   "execution_count": null,
   "id": "05dbde64-6066-4492-8983-04671a4c9544",
   "metadata": {},
   "outputs": [],
   "source": []
  }
 ],
 "metadata": {
  "kernelspec": {
   "display_name": "Python 3 (ipykernel)",
   "language": "python",
   "name": "python3"
  },
  "language_info": {
   "codemirror_mode": {
    "name": "ipython",
    "version": 3
   },
   "file_extension": ".py",
   "mimetype": "text/x-python",
   "name": "python",
   "nbconvert_exporter": "python",
   "pygments_lexer": "ipython3",
   "version": "3.9.18"
  }
 },
 "nbformat": 4,
 "nbformat_minor": 5
}
