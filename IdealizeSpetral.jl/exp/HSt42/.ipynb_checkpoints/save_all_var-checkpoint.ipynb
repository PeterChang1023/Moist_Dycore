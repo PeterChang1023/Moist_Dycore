{
 "cells": [
  {
   "cell_type": "code",
   "execution_count": 1,
   "id": "f042ff9d-5451-48c3-bb22-96283667a81d",
   "metadata": {},
   "outputs": [],
   "source": [
    "import numpy as np\n",
    "import matplotlib.pyplot as plt\n",
    "import h5py\n",
    "import os\n",
    "import matplotlib.cm as cm\n",
    "from scipy.interpolate import interp1d\n",
    "from EOF import EOF\n",
    "import datetime "
   ]
  },
  {
   "cell_type": "code",
   "execution_count": 2,
   "id": "55e44a97-d2df-4cdf-8add-6c0be712fe79",
   "metadata": {},
   "outputs": [],
   "source": [
    "from Dycore import Dycore\n",
    "def read_all_var(pr_start, pr_to, pr_leap, start, end, internal_day, total_file):\n",
    "        total_pr = int((pr_to - pr_start) / pr_leap)\n",
    "        total_day = int(total_file*internal_day)\n",
    "        \n",
    "        # qv      = np.zeros(((((total_pr, total_day, 20, 64, 128)))))\n",
    "        # qv_diff = np.zeros(((((total_pr, total_day, 20, 64, 128)))))\n",
    "        # u       = np.zeros(((((total_pr, total_day, 20, 64, 128)))))\n",
    "        # v       = np.zeros(((((total_pr, total_day, 20, 64, 128)))))\n",
    "        # w       = np.zeros(((((total_pr, total_day, 20, 64, 128)))))\n",
    "        t       = np.zeros(((((total_pr, total_day, 20, 64, 128)))))\n",
    "        # p       = np.zeros(((((total_pr, total_day, 20, 64, 128)))))\n",
    "        # ps      = np.zeros(((((total_pr, total_day, 20, 64, 128)))))\n",
    "        # p_half  = np.zeros(((((total_pr, total_day, 21, 64, 128)))))\n",
    "        # z_full  = np.zeros(((((total_pr, total_day, 20, 64, 128)))))\n",
    "    \n",
    "        \n",
    "        a = 0\n",
    "        for pr in range(pr_start, pr_to, pr_leap):\n",
    "            k = 0\n",
    "            for day in range(start,end,internal_day):\n",
    "                print(day)\n",
    "                # if pr == 8 and day == 7500:\n",
    "                    # print(\"PR=8, 7500day file miss\")\n",
    "\n",
    "                # elif pr >= 30:\n",
    "                    # file  = f\"HSt42_{pr}/RH80_PR{pr}_20000day_startfrom_{day}day_final.dat\"\n",
    "                # else:\n",
    "                    # file  = f\"HSt42_{pr}_EMF_might_error_edition/RH80_PR{pr}_1600day_startfrom_{day}day_final.dat\"\n",
    "                    # file  = f\"HSt42_{pr}_3000day/RH80_PR{pr}_3000day_startfrom_{day}day_final.dat\"\n",
    "                    # file  = f\"HSt42_{pr}/RH80_PR{pr}_10000day_startfrom_{day}day_final.dat\"\n",
    "                # file  = f\"HSt42_{pr}_10000day/RH80_PR{pr}_10000day_startfrom_{day}day_final.dat\"\n",
    "                file  = f\"HSt42_{pr}/RH80_PR{pr}_20000day_startfrom_{day}day_final.dat\"\n",
    "                \n",
    "                    \n",
    "                    \n",
    "                    \n",
    "                dycore = Dycore(file)\n",
    "                # qv[a,k*100:(k+1)*100,:,:,:]      = dycore.qv\n",
    "                # qv_diff[a,k*100:(k+1)*100,:,:,:] = dycore.qv_diff\n",
    "                # u[a,k*100:(k+1)*100,:,:,:]       = dycore.u\n",
    "                # v[a,k*100:(k+1)*100,:,:,:]       = dycore.v\n",
    "                # w[a,k*100:(k+1)*100,:,:,:]       = dycore.w\n",
    "                # z_full[a,k*100:(k+1)*100,:,:,:]       = dycore.z_full\n",
    "                \n",
    "                t[a,k*100:(k+1)*100,:,:,:]       = dycore.t\n",
    "                # ps[a,k*100:(k+1)*100,:,:,:]      = dycore.ps\n",
    "                # p[a,k*100:(k+1)*100,:,:,:]       = dycore.p\n",
    "                # p_half[a,k*100:(k+1)*100,:,:,:]  = dycore.p_half\n",
    "                            \n",
    "                k += 1\n",
    "            a += 1\n",
    "        # return qv, qv_diff, u, v, w, z_full, t, ps, p, p_half\n",
    "        return t\n",
    "        # return z_full\n",
    "        # return u, v, w, t, qv, qv_diff\n",
    "        # return p, ps, p_half, z_full\n",
    "\n",
    "    "
   ]
  },
  {
   "cell_type": "code",
   "execution_count": null,
   "id": "539f44e7-155e-4d9d-81e3-ebdbb288bb5c",
   "metadata": {},
   "outputs": [
    {
     "name": "stdout",
     "output_type": "stream",
     "text": [
      "500\n",
      "600\n",
      "700\n",
      "800\n",
      "900\n",
      "1000\n",
      "1100\n",
      "1200\n",
      "1300\n",
      "1400\n",
      "1500\n",
      "1600\n",
      "1700\n",
      "1800\n",
      "1900\n",
      "2000\n",
      "2100\n",
      "2200\n",
      "2300\n",
      "2400\n",
      "2500\n",
      "2600\n",
      "2700\n",
      "2800\n",
      "2900\n"
     ]
    }
   ],
   "source": [
    "pr_start = 10\n",
    "pr_leap = 10\n",
    "pr_to = 60\n",
    "total_pr = (pr_to - pr_start) / pr_leap\n",
    "\n",
    "start = 500\n",
    "end   = 20000\n",
    "internal_day = 100\n",
    "total_day = int((end -start)/internal_day) * internal_day\n",
    "\n",
    "total_file = int((end - start) / internal_day)\n",
    "\n",
    "# u, v, w, t, qv, qv_diff = read_all_var(pr_start, pr_to, pr_leap, start , end, internal_day, total_file)  # \n",
    "# qv, qv_diff, u, v, w, z_full, t, ps, p, p_half = read_all_var(pr_start, pr_to, pr_leap, start , end, internal_day, total_file)  # \n",
    "t = read_all_var(pr_start, pr_to, pr_leap, start , end, internal_day, total_file)  # \n",
    "\n",
    "\n",
    "\n",
    "print(\"done\")\n"
   ]
  },
  {
   "cell_type": "code",
   "execution_count": 6,
   "id": "e6dfa636-d482-4d4c-9900-22582f4f3fe6",
   "metadata": {},
   "outputs": [
    {
     "name": "stdout",
     "output_type": "stream",
     "text": [
      "done\n"
     ]
    }
   ],
   "source": [
    "\n",
    "# with h5py.File('PR10_50_0_20000day_correct_u.h5','w') as u_file :\n",
    "#     u_file.create_dataset('u',data=u)\n",
    "#     # u = np.asarray(u_file[\"u\"][:,int(start):end,:,:,:])\n",
    "\n",
    "\n",
    "# with h5py.File('PR10_50_0_20000day_qv.h5','w') as qv_file :\n",
    "#     qv_file.create_dataset('qv',data=qv)\n",
    "#     # qv = np.asarray(qv_file[\"qv\"][:,int(start):end,:,:,:])\n",
    "\n",
    "\n",
    "# with h5py.File('PR10_50_0_20000day_qv_diff.h5','w') as qv_diff_file :\n",
    "#     qv_diff_file.create_dataset('qv_diff',data=qv_diff)\n",
    "#     # qv_diff = np.asarray(qv_diff_file[\"qv_diff\"][:,int(start):end,:,:,:])\n",
    "\n",
    "\n",
    "# with h5py.File('PR10_50_0_20000day_v.h5','w') as v_file :\n",
    "#     v_file.create_dataset('v',data=v)\n",
    "#     # ps = np.asarray(ps_file[\"ps\"][:,int(start):end,:,:,:])\n",
    "\n",
    "\n",
    "# with h5py.File('PR10_50_0_20000day_t.h5','w') as t_file :\n",
    "#     t_file.create_dataset('t',data=t)\n",
    "#     # ps = np.asarray(ps_file[\"ps\"][:,int(start):end,:,:,:])\n",
    "\n",
    "\n",
    "# with h5py.File('PR10_50_0_20000day_w.h5','w') as w_file :\n",
    "#     w_file.create_dataset('w',data=w)\n",
    "#     # ps = np.asarray(ps_file[\"ps\"][:,int(start):end,:,:,:])\n",
    "\n",
    "# with h5py.File('PR10_50_0_20000day_p.h5','w') as p_file :\n",
    "#     p_file.create_dataset('p',data=p)\n",
    "#     # p = np.asarray(p_file[\"p\"][:,int(start):end,:,:,:])\n",
    "\n",
    "\n",
    "# with h5py.File('PR10_50_0_20000day_ps.h5','w') as ps_file :\n",
    "#     ps_file.create_dataset('ps',data=ps)\n",
    "#     # ps = np.asarray(ps_file[\"ps\"][:,int(start):end,:,:,:])\n",
    "\n",
    "\n",
    "# with h5py.File('PR10_50_0_20000day_p_half.h5','w') as p_half_file :\n",
    "#     p_half_file.create_dataset('p_half',data=p_half)\n",
    "#     # ps = np.asarray(ps_file[\"ps\"][:,int(start):end,:,:,:])\n",
    "\n",
    "\n",
    "# with h5py.File('PR10_50_0_20000day_z_full.h5','w') as z_full_file :\n",
    "#     z_full_file.create_dataset('z_full',data=z_full)\n",
    "#     # ps = np.asarray(ps_file[\"ps\"][:,int(start):end,:,:,:])\n",
    "\n",
    "# print(\"done\")"
   ]
  },
  {
   "cell_type": "code",
   "execution_count": 4,
   "id": "dc65ac21-da7e-4db1-9631-f377fc5a6054",
   "metadata": {},
   "outputs": [],
   "source": [
    "# for EHF\n",
    "Ttm = np.nanmean(t, axis=1)"
   ]
  },
  {
   "cell_type": "code",
   "execution_count": 5,
   "id": "7ad225f6-5c09-410a-8454-4c9c0ccc7881",
   "metadata": {},
   "outputs": [],
   "source": [
    "with h5py.File('PR10_50_500_20000day_t_time_mean.h5','w') as Ttm_file :\n",
    "    Ttm_file.create_dataset('t',data=Ttm)\n",
    "    # ps = np.asarray(ps_file[\"ps\"][:,int(start):end,:,:,:])"
   ]
  },
  {
   "cell_type": "code",
   "execution_count": 6,
   "id": "f9cc8512-569c-46fa-8640-e30fd35d3a5b",
   "metadata": {},
   "outputs": [],
   "source": [
    "# load test\n",
    "Ttm_file      = h5py.File(\"PR10_50_500_20000day_t_time_mean.h5\", \"r\")\n"
   ]
  },
  {
   "cell_type": "code",
   "execution_count": 7,
   "id": "24e10618-824c-4d56-9e88-ad9df1fe9e3d",
   "metadata": {},
   "outputs": [],
   "source": [
    "u1       = np.asarray(Ttm_file[\"t\"][:,:,:,:])\n"
   ]
  },
  {
   "cell_type": "code",
   "execution_count": 8,
   "id": "169646cf-29de-4210-a254-1b79a1aeebce",
   "metadata": {},
   "outputs": [
    {
     "name": "stdout",
     "output_type": "stream",
     "text": [
      "(5, 20, 64, 128)\n"
     ]
    }
   ],
   "source": [
    "print(u1.shape)"
   ]
  },
  {
   "cell_type": "code",
   "execution_count": null,
   "id": "1b2c7bde-a918-499c-a296-698b9645dac0",
   "metadata": {},
   "outputs": [],
   "source": [
    "print(\"Ttm saving done\")"
   ]
  }
 ],
 "metadata": {
  "kernelspec": {
   "display_name": "Python 3 (ipykernel)",
   "language": "python",
   "name": "python3"
  },
  "language_info": {
   "codemirror_mode": {
    "name": "ipython",
    "version": 3
   },
   "file_extension": ".py",
   "mimetype": "text/x-python",
   "name": "python",
   "nbconvert_exporter": "python",
   "pygments_lexer": "ipython3",
   "version": "3.9.18"
  }
 },
 "nbformat": 4,
 "nbformat_minor": 5
}
