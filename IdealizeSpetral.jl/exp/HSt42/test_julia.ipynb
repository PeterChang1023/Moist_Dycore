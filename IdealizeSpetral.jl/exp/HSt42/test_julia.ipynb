{
 "cells": [
  {
   "cell_type": "code",
   "execution_count": 1,
   "id": "046d58c9-9731-4d49-9fa9-0ce88942ca92",
   "metadata": {},
   "outputs": [
    {
     "name": "stdout",
     "output_type": "stream",
     "text": [
      "10987654321"
     ]
    }
   ],
   "source": [
    "using Statistics\n",
    "using Interpolations\n",
    "\n",
    "x = zeros((2,4))\n",
    "x[1,2] = 3\n",
    "x[1,1] = 4\n",
    "# print(x)\n",
    "y = [11,2,3,10,23,42]\n",
    "y = ones((2,4))\n",
    "z = y\n",
    "z .= x .+ y\n",
    "# ifelse.(x.< 5, x, x.+10)\n",
    "# print(x[x .>5])\n",
    "# print(size(x))\n",
    "# print(size(mean(x[1:2,:], dims=1)))\n",
    "# mean(filter(!isnan,x), dims=1)\n",
    "# itp = LinearInterpolation(x, z)\n",
    "for k in 10:-1:1\n",
    "    print(k)\n",
    "end"
   ]
  },
  {
   "cell_type": "code",
   "execution_count": 2,
   "id": "3862d1cb-af59-40d1-8a44-093d9797468c",
   "metadata": {},
   "outputs": [
    {
     "name": "stdout",
     "output_type": "stream",
     "text": [
      "Bool[1 1 0 0; 0 0 0 0]false"
     ]
    },
    {
     "ename": "LoadError",
     "evalue": "TypeError: non-boolean (BitMatrix) used in boolean context",
     "output_type": "error",
     "traceback": [
      "TypeError: non-boolean (BitMatrix) used in boolean context",
      "",
      "Stacktrace:",
      " [1] top-level scope",
      "   @ In[2]:3"
     ]
    }
   ],
   "source": [
    "print((x .>1))\n",
    "print(all(x .>1))\n",
    "if x .>1 in 5\n",
    "    x -= 1\n",
    "end"
   ]
  },
  {
   "cell_type": "code",
   "execution_count": 3,
   "id": "1e5b2bfb-9638-4cb0-8766-34cc567fed69",
   "metadata": {},
   "outputs": [
    {
     "ename": "LoadError",
     "evalue": "TypeError: non-boolean (BitMatrix) used in boolean context",
     "output_type": "error",
     "traceback": [
      "TypeError: non-boolean (BitMatrix) used in boolean context",
      "",
      "Stacktrace:",
      " [1] top-level scope",
      "   @ In[3]:1"
     ]
    }
   ],
   "source": [
    "if (x.>1)\n",
    "    print(\"hi\")\n",
    "end"
   ]
  },
  {
   "cell_type": "code",
   "execution_count": 4,
   "id": "6a2a0f47-e04b-4ccb-a02c-b9b38f71ad77",
   "metadata": {},
   "outputs": [
    {
     "ename": "LoadError",
     "evalue": "MethodError: no method matching extrapolate(::Tuple{StepRangeLen{Float64, Base.TwicePrecision{Float64}, Base.TwicePrecision{Float64}, Int64}, StepRangeLen{Float64, Base.TwicePrecision{Float64}, Base.TwicePrecision{Float64}, Int64}}, ::Matrix{Float64})\n\n\u001b[0mClosest candidates are:\n\u001b[0m  extrapolate(\u001b[91m::AbstractInterpolation{T, N, IT}\u001b[39m, ::Any) where {T, N, IT}\n\u001b[0m\u001b[90m   @\u001b[39m \u001b[35mInterpolations\u001b[39m \u001b[90m~/.julia/packages/Interpolations/nDwIa/src/extrapolation/\u001b[39m\u001b[90m\u001b[4mfilled.jl:28\u001b[24m\u001b[39m\n",
     "output_type": "error",
     "traceback": [
      "MethodError: no method matching extrapolate(::Tuple{StepRangeLen{Float64, Base.TwicePrecision{Float64}, Base.TwicePrecision{Float64}, Int64}, StepRangeLen{Float64, Base.TwicePrecision{Float64}, Base.TwicePrecision{Float64}, Int64}}, ::Matrix{Float64})\n\n\u001b[0mClosest candidates are:\n\u001b[0m  extrapolate(\u001b[91m::AbstractInterpolation{T, N, IT}\u001b[39m, ::Any) where {T, N, IT}\n\u001b[0m\u001b[90m   @\u001b[39m \u001b[35mInterpolations\u001b[39m \u001b[90m~/.julia/packages/Interpolations/nDwIa/src/extrapolation/\u001b[39m\u001b[90m\u001b[4mfilled.jl:28\u001b[24m\u001b[39m\n",
      "",
      "Stacktrace:",
      " [1] top-level scope",
      "   @ In[4]:8"
     ]
    }
   ],
   "source": [
    "using Interpolations\n",
    "# Data\n",
    "x = range(-2, 3, length=20)\n",
    "y = range(3, 4, length=10)\n",
    "z = @. cos(x) + sin(y')\n",
    "# Interpolation object (caches coefficients and such)\n",
    "\n",
    "itp = extrapolate((x, y), z)\n",
    "\n",
    "print(size(z))"
   ]
  },
  {
   "cell_type": "code",
   "execution_count": 5,
   "id": "822ee188",
   "metadata": {},
   "outputs": [
    {
     "name": "stdout",
     "output_type": "stream",
     "text": [
      "11.000000000000002"
     ]
    }
   ],
   "source": [
    "# random(2)\n",
    "\n",
    "itp = interpolate([1,3,5], BSpline(Cubic()))\n",
    "etpf = extrapolate(itp, Linear())   # gives 1 on the left edge and 7 on the right edge\n",
    "# etp0 = extrapolate(itp, 0)        # gives 0 everywhere outside [1,7]\n",
    "\n",
    "print((etpf[6]))"
   ]
  },
  {
   "cell_type": "code",
   "execution_count": 6,
   "id": "ccb4f578",
   "metadata": {},
   "outputs": [
    {
     "name": "stdout",
     "output_type": "stream",
     "text": [
      "(20,)"
     ]
    }
   ],
   "source": [
    "using JLD2\n",
    "x = LinRange(1,20,20)\n",
    "y = sin.(x)\n",
    "itp = interpolate(y, BSpline(Cubic()))\n",
    "itp2 = interpolate(y, BSpline(Linear()))\n",
    "\n",
    "v = zeros(20)\n",
    "v2 = zeros(20)\n",
    "\n",
    "for i in 1:19\n",
    "    v[i] = itp[i+0.5]\n",
    "    v2[i] = itp2[i+0.5]\n",
    "\n",
    "end\n",
    "print(size(x))"
   ]
  },
  {
   "cell_type": "code",
   "execution_count": 8,
   "id": "622d3025",
   "metadata": {},
   "outputs": [
    {
     "ename": "LoadError",
     "evalue": "UndefVarError: `legend` not defined",
     "output_type": "error",
     "traceback": [
      "UndefVarError: `legend` not defined",
      "",
      "Stacktrace:",
      " [1] top-level scope",
      "   @ In[8]:7"
     ]
    }
   ],
   "source": [
    "using Plots\n",
    "\n",
    "scatter(x,y)\n",
    "plot(x,v, label=\"Cubic\")\n",
    "plot(x,v2, label=\"Linear\")\n",
    "\n",
    "legend()\n",
    "show()"
   ]
  },
  {
   "cell_type": "markdown",
   "id": "1ed5552a",
   "metadata": {},
   "source": []
  },
  {
   "cell_type": "code",
   "execution_count": 21,
   "id": "7810f10e-fd70-4b29-b857-3ec3dad9e7e0",
   "metadata": {},
   "outputs": [],
   "source": [
    "import Dates "
   ]
  },
  {
   "cell_type": "code",
   "execution_count": 38,
   "id": "e976bdff-7586-4816-bfb2-7abe551d6dfa",
   "metadata": {},
   "outputs": [
    {
     "data": {
      "text/plain": [
       "2024-01-02T15:36:34.369"
      ]
     },
     "execution_count": 38,
     "metadata": {},
     "output_type": "execute_result"
    }
   ],
   "source": [
    "start_time = Dates.now() "
   ]
  },
  {
   "cell_type": "code",
   "execution_count": 39,
   "id": "13a7d30e-61ac-4271-814a-63f830291153",
   "metadata": {},
   "outputs": [
    {
     "data": {
      "text/plain": [
       "2024-01-02T15:37:44.178"
      ]
     },
     "execution_count": 39,
     "metadata": {},
     "output_type": "execute_result"
    }
   ],
   "source": [
    "final_time = Dates.now() "
   ]
  },
  {
   "cell_type": "code",
   "execution_count": 40,
   "id": "17a59e02-513a-4b8f-b14e-4974f5ef1e60",
   "metadata": {},
   "outputs": [
    {
     "data": {
      "text/plain": [
       "69809 milliseconds"
      ]
     },
     "execution_count": 40,
     "metadata": {},
     "output_type": "execute_result"
    }
   ],
   "source": [
    "all_time = final_time - start_time"
   ]
  },
  {
   "cell_type": "code",
   "execution_count": 44,
   "id": "e916882e-d14b-4f0d-b776-7dc387d2fc02",
   "metadata": {},
   "outputs": [
    {
     "data": {
      "text/plain": [
       "1 minute, 9 seconds, 809 milliseconds"
      ]
     },
     "execution_count": 44,
     "metadata": {},
     "output_type": "execute_result"
    }
   ],
   "source": [
    "Dates.canonicalize(Dates.CompoundPeriod(Dates.Millisecond(all_time)))"
   ]
  },
  {
   "cell_type": "code",
   "execution_count": null,
   "id": "48a2e3ed-4ae3-4529-8cfc-48affa0d0811",
   "metadata": {},
   "outputs": [],
   "source": []
  }
 ],
 "metadata": {
  "kernelspec": {
   "display_name": "Julia 1.9.3",
   "language": "julia",
   "name": "julia-1.9"
  },
  "language_info": {
   "file_extension": ".jl",
   "mimetype": "application/julia",
   "name": "julia",
   "version": "1.9.3"
  }
 },
 "nbformat": 4,
 "nbformat_minor": 5
}
