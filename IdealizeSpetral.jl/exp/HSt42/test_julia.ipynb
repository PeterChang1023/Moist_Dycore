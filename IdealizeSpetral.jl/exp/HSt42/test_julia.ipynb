{
 "cells": [
  {
   "cell_type": "code",
   "execution_count": 23,
   "id": "046d58c9-9731-4d49-9fa9-0ce88942ca92",
   "metadata": {},
   "outputs": [
    {
     "name": "stdout",
     "output_type": "stream",
     "text": [
      "10987654321"
     ]
    }
   ],
   "source": [
    "using Statistics\n",
    "using Interpolations\n",
    "\n",
    "x = zeros((2,4))\n",
    "x[1,2] = 3\n",
    "x[1,1] = 4\n",
    "# print(x)\n",
    "y = [11,2,3,10,23,42]\n",
    "y = ones((2,4))\n",
    "z = y\n",
    "z .= x .+ y\n",
    "# ifelse.(x.< 5, x, x.+10)\n",
    "# print(x[x .>5])\n",
    "# print(size(x))\n",
    "# print(size(mean(x[1:2,:], dims=1)))\n",
    "# mean(filter(!isnan,x), dims=1)\n",
    "# itp = LinearInterpolation(x, z)\n",
    "for k in 10:-1:1\n",
    "    print(k)\n",
    "end"
   ]
  },
  {
   "cell_type": "code",
   "execution_count": 36,
   "id": "585e429c-3889-4890-868b-a866135eaeb6",
   "metadata": {},
   "outputs": [
    {
     "name": "stdout",
     "output_type": "stream",
     "text": [
      "[-0.09531017980432521, -0.041964199099031596]"
     ]
    }
   ],
   "source": [
    "# log(2.71828)\n",
    "x = [50, 70]\n",
    "y = [55, 73]\n",
    "xx = log.(x) .- log.(y)\n",
    "print(xx)"
   ]
  },
  {
   "cell_type": "code",
   "execution_count": null,
   "id": "3862d1cb-af59-40d1-8a44-093d9797468c",
   "metadata": {},
   "outputs": [],
   "source": [
    "print((x .>1))\n",
    "print(all(x .>1))\n",
    "if x .>1 in 5\n",
    "    x -= 1\n",
    "end"
   ]
  },
  {
   "cell_type": "code",
   "execution_count": null,
   "id": "1e5b2bfb-9638-4cb0-8766-34cc567fed69",
   "metadata": {},
   "outputs": [],
   "source": [
    "if (x.>1)\n",
    "    print(\"hi\")\n",
    "end"
   ]
  },
  {
   "cell_type": "code",
   "execution_count": null,
   "id": "6a2a0f47-e04b-4ccb-a02c-b9b38f71ad77",
   "metadata": {},
   "outputs": [],
   "source": [
    "using Interpolations\n",
    "# Data\n",
    "x = range(-2, 3, length=20)\n",
    "y = range(3, 4, length=10)\n",
    "z = @. cos(x) + sin(y')\n",
    "# Interpolation object (caches coefficients and such)\n",
    "\n",
    "itp = extrapolate((x, y), z)\n",
    "\n",
    "print(size(z))"
   ]
  },
  {
   "cell_type": "code",
   "execution_count": null,
   "id": "822ee188",
   "metadata": {},
   "outputs": [],
   "source": [
    "# random(2)\n",
    "\n",
    "itp = interpolate([1,3,5], BSpline(Cubic()))\n",
    "etpf = extrapolate(itp, Linear())   # gives 1 on the left edge and 7 on the right edge\n",
    "# etp0 = extrapolate(itp, 0)        # gives 0 everywhere outside [1,7]\n",
    "\n",
    "print((etpf[6]))"
   ]
  },
  {
   "cell_type": "code",
   "execution_count": null,
   "id": "ccb4f578",
   "metadata": {},
   "outputs": [],
   "source": [
    "using JLD2\n",
    "x = LinRange(1,20,20)\n",
    "y = sin.(x)\n",
    "itp = interpolate(y, BSpline(Cubic()))\n",
    "itp2 = interpolate(y, BSpline(Linear()))\n",
    "\n",
    "v = zeros(20)\n",
    "v2 = zeros(20)\n",
    "\n",
    "for i in 1:19\n",
    "    v[i] = itp[i+0.5]\n",
    "    v2[i] = itp2[i+0.5]\n",
    "\n",
    "end\n",
    "print(size(x))"
   ]
  },
  {
   "cell_type": "code",
   "execution_count": null,
   "id": "622d3025",
   "metadata": {},
   "outputs": [],
   "source": [
    "using Plots\n",
    "\n",
    "scatter(x,y)\n",
    "plot(x,v, label=\"Cubic\")\n",
    "plot(x,v2, label=\"Linear\")\n",
    "\n",
    "legend()\n",
    "show()"
   ]
  },
  {
   "cell_type": "markdown",
   "id": "1ed5552a",
   "metadata": {},
   "source": []
  },
  {
   "cell_type": "code",
   "execution_count": null,
   "id": "7810f10e-fd70-4b29-b857-3ec3dad9e7e0",
   "metadata": {},
   "outputs": [],
   "source": [
    "import Dates "
   ]
  },
  {
   "cell_type": "code",
   "execution_count": null,
   "id": "e976bdff-7586-4816-bfb2-7abe551d6dfa",
   "metadata": {},
   "outputs": [],
   "source": [
    "start_time = Dates.now() "
   ]
  },
  {
   "cell_type": "code",
   "execution_count": null,
   "id": "13a7d30e-61ac-4271-814a-63f830291153",
   "metadata": {},
   "outputs": [],
   "source": [
    "final_time = Dates.now() "
   ]
  },
  {
   "cell_type": "code",
   "execution_count": null,
   "id": "17a59e02-513a-4b8f-b14e-4974f5ef1e60",
   "metadata": {},
   "outputs": [],
   "source": [
    "all_time = final_time - start_time"
   ]
  },
  {
   "cell_type": "code",
   "execution_count": null,
   "id": "e916882e-d14b-4f0d-b776-7dc387d2fc02",
   "metadata": {},
   "outputs": [],
   "source": [
    "Dates.canonicalize(Dates.CompoundPeriod(Dates.Millisecond(all_time)))"
   ]
  },
  {
   "cell_type": "code",
   "execution_count": 1,
   "id": "48a2e3ed-4ae3-4529-8cfc-48affa0d0811",
   "metadata": {},
   "outputs": [
    {
     "ename": "LoadError",
     "evalue": "InterruptException:",
     "output_type": "error",
     "traceback": [
      "InterruptException:",
      "",
      "Stacktrace:",
      " [1] Array",
      "   @ ./boot.jl:477 [inlined]",
      " [2] Array",
      "   @ ./boot.jl:486 [inlined]",
      " [3] zeros",
      "   @ ./array.jl:584 [inlined]",
      " [4] zeros",
      "   @ ./array.jl:580 [inlined]",
      " [5] stat(path::String)",
      "   @ Base.Filesystem ./stat.jl:149",
      " [6] isfile",
      "   @ ./stat.jl:461 [inlined]",
      " [7] top-level scope",
      "   @ ./In[1]:1"
     ]
    }
   ],
   "source": [
    "while ~(isfile(\"RH80_PR5_50day_startfrom_0day_final.dat\"))\n",
    "    test =  \"None\" # \"0_10day_test_warm_start_all.dat\"\n",
    "end"
   ]
  },
  {
   "cell_type": "code",
   "execution_count": 20,
   "id": "0307aee8-a99b-490d-8887-5c73e2684499",
   "metadata": {},
   "outputs": [
    {
     "name": "stdout",
     "output_type": "stream",
     "text": [
      "(3, 2, 5)[0.09108623700692153 0.7323503918676091; 0.09465453150472147 0.00018316652955852053; 0.3650545509740527 0.6388510362544498]"
     ]
    }
   ],
   "source": [
    "x = rand(3,2,5)\n",
    "print(size(x))\n",
    "print(x[:,:,end])"
   ]
  },
  {
   "cell_type": "code",
   "execution_count": null,
   "id": "9baa9f08-6890-4502-82af-ab89e8b283fc",
   "metadata": {},
   "outputs": [],
   "source": []
  }
 ],
 "metadata": {
  "kernelspec": {
   "display_name": "Julia 1.9.3",
   "language": "julia",
   "name": "julia-1.9"
  },
  "language_info": {
   "file_extension": ".jl",
   "mimetype": "application/julia",
   "name": "julia",
   "version": "1.9.3"
  }
 },
 "nbformat": 4,
 "nbformat_minor": 5
}
