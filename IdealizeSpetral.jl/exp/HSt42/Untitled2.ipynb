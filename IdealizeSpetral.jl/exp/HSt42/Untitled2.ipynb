{
 "cells": [
  {
   "cell_type": "code",
   "execution_count": 101,
   "id": "15a1f077-ff32-4358-8ffe-665b73f3f06e",
   "metadata": {},
   "outputs": [
    {
     "name": "stdout",
     "output_type": "stream",
     "text": [
      "0"
     ]
    }
   ],
   "source": [
    "touch(\"Latent_heat.txt\")\n",
    "file = open(\"Latent_heat.txt\", \"r\")\n",
    "# file = \"firstday_file.txt\"\n",
    "data = read(file, String)\n",
    "close(file)\n",
    "\n",
    "L_file        = open(\"Latent_heat.txt\", \"r\")\n",
    "L_int         = read(L_file, String)\n",
    "# print(parse(String, data))\n",
    "print(L_int)\n",
    "close(L_file )"
   ]
  },
  {
   "cell_type": "code",
   "execution_count": 57,
   "id": "26cada4f-a519-46a2-a6ac-1139789cc553",
   "metadata": {},
   "outputs": [],
   "source": [
    "x = data\n",
    "print(x)"
   ]
  },
  {
   "cell_type": "code",
   "execution_count": 105,
   "id": "1d227fba-ee01-4e6f-af79-f04a0d25e831",
   "metadata": {},
   "outputs": [
    {
     "name": "stdout",
     "output_type": "stream",
     "text": [
      "HSt42_0/"
     ]
    }
   ],
   "source": [
    "path = \"HSt42_\"\n",
    "path = \"HSt42_\" * L_int * \"/\"\n",
    "\n",
    "print(path)\n"
   ]
  }
 ],
 "metadata": {
  "kernelspec": {
   "display_name": "Julia 1.9.3",
   "language": "julia",
   "name": "julia-1.9"
  },
  "language_info": {
   "file_extension": ".jl",
   "mimetype": "application/julia",
   "name": "julia",
   "version": "1.9.3"
  }
 },
 "nbformat": 4,
 "nbformat_minor": 5
}
