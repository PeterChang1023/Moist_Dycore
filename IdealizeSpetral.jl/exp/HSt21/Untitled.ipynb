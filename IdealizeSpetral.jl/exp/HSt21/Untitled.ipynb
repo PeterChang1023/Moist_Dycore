{
 "cells": [
  {
   "cell_type": "code",
   "execution_count": 3,
   "id": "ff8e6e8c-bf86-4794-9c2c-61e6ef9262d2",
   "metadata": {},
   "outputs": [
    {
     "ename": "LoadError",
     "evalue": "UndefVarError: output_manager not defined",
     "output_type": "error",
     "traceback": [
      "UndefVarError: output_manager not defined",
      "",
      "Stacktrace:",
      " [1] top-level scope",
      "   @ In[3]:2"
     ]
    }
   ],
   "source": [
    "export output_manager\n",
    "num_fourier, nθ, nd = 21, 32, 10\n",
    "θc = output_manager.θc\n",
    "σc = output_manager.σc"
   ]
  },
  {
   "cell_type": "code",
   "execution_count": null,
   "id": "0f182b3e-1052-496b-9b5c-73f2818a25b3",
   "metadata": {},
   "outputs": [],
   "source": []
  }
 ],
 "metadata": {
  "kernelspec": {
   "display_name": "Julia 1.8.5",
   "language": "julia",
   "name": "julia-1.8"
  },
  "language_info": {
   "file_extension": ".jl",
   "mimetype": "application/julia",
   "name": "julia",
   "version": "1.8.5"
  }
 },
 "nbformat": 4,
 "nbformat_minor": 5
}
